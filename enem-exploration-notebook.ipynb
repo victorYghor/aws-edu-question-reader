{
 "cells": [
  {
   "cell_type": "markdown",
   "metadata": {},
   "source": [
    "## Importing dependencies & defining global variables"
   ]
  },
  {
   "cell_type": "code",
   "execution_count": 8,
   "metadata": {
    "scrolled": false
   },
   "outputs": [
    {
     "ename": "ModuleNotFoundError",
     "evalue": "No module named 'boto3'",
     "output_type": "error",
     "traceback": [
      "\u001b[0;31m---------------------------------------------------------------------------\u001b[0m",
      "\u001b[0;31mModuleNotFoundError\u001b[0m                       Traceback (most recent call last)",
      "Cell \u001b[0;32mIn[8], line 1\u001b[0m\n\u001b[0;32m----> 1\u001b[0m \u001b[38;5;28;01mimport\u001b[39;00m \u001b[38;5;21;01mboto3\u001b[39;00m\n\u001b[1;32m      2\u001b[0m \u001b[38;5;28;01mfrom\u001b[39;00m \u001b[38;5;21;01mpprint\u001b[39;00m \u001b[38;5;28;01mimport\u001b[39;00m pprint\n\u001b[1;32m      3\u001b[0m \u001b[38;5;28;01mimport\u001b[39;00m \u001b[38;5;21;01mIPython\u001b[39;00m\u001b[38;5;21;01m.\u001b[39;00m\u001b[38;5;21;01mdisplay\u001b[39;00m \u001b[38;5;28;01mas\u001b[39;00m \u001b[38;5;21;01mdisp\u001b[39;00m\n",
      "\u001b[0;31mModuleNotFoundError\u001b[0m: No module named 'boto3'"
     ]
    }
   ],
   "source": [
    "import boto3\n",
    "from pprint import pprint\n",
    "import IPython.display as disp\n",
    "from PIL import Image, ImageDraw\n",
    "from pdf2image import convert_from_path"
   ]
  },
  {
   "cell_type": "code",
   "execution_count": 9,
   "metadata": {},
   "outputs": [],
   "source": [
    "exam_name = 'custom_exam'\n",
    "exam_bucket = 'exams-martinig'\n",
    "exams_dir = '../exams'\n",
    "sample_file = f'{exams_dir}/custom_exam.pdf'\n",
    "region = 'us-east-1'"
   ]
  },
  {
   "cell_type": "markdown",
   "metadata": {},
   "source": [
    "## Defining functions"
   ]
  },
  {
   "cell_type": "code",
   "execution_count": 14,
   "metadata": {},
   "outputs": [],
   "source": [
    "# convert the pdf in a directory with all pages in jpeg\n",
    "def convert_pdf2jpeg(pdf_file, exam_name, output_dir):\n",
    "    pages = convert_from_path(pdf_file)\n",
    "    page_count = 0\n",
    "    for page in pages:\n",
    "        page_count+=1\n",
    "        page.save(f'{output_dir}/{exam_name}_{page_count}pg.jpg', 'JPEG')\n",
    "        \n",
    "# Ler o arquivoe transformar em um bytearray      \n",
    "def load_image(filename):\n",
    "    with open(filename, \"rb\") as imageFile:\n",
    "      f = imageFile.read()\n",
    "      return bytearray(f)\n",
    "    \n",
    "# save the pages in the s3 bucktes \n",
    "def save_pages(textract_response):\n",
    "    pages=[]\n",
    "    blocks = textract_response['Blocks']\n",
    "    for block in blocks:\n",
    "        if block['BlockType'] == 'PAGE':\n",
    "           pages.append(block)\n",
    "    return pages\n",
    "\n",
    "# \n",
    "def save_lines(textract_response):\n",
    "    lines=[]\n",
    "    blocks = textract_response['Blocks']\n",
    "    for block in blocks:\n",
    "        if block['BlockType'] == 'LINE':\n",
    "           lines.append(block)\n",
    "    return lines\n",
    "\n",
    "#\n",
    "def save_words(textract_response):\n",
    "    words=[]\n",
    "    blocks = textract_response['Blocks']\n",
    "    for block in blocks:\n",
    "        if block['BlockType'] == 'WORD':\n",
    "           words.append(block)\n",
    "    return words\n",
    "\n",
    "# identifica onde começa as questões \n",
    "def identify_questions(words):\n",
    "    questions=[]\n",
    "    for word in words:\n",
    "        if word['Text'] == 'Questão':\n",
    "            questions.append(word)\n",
    "    return questions\n",
    "\n",
    "def localize_questions(questions):\n",
    "    questions_bboxes = []\n",
    "    for question in questions:\n",
    "        questions_bboxes.append(question['Geometry']['BoundingBox'])\n",
    "    return questions_bboxes\n",
    "\n",
    "def order_questions(questions):\n",
    "    for question, next_question in zip(questions, questions[1:]):\n",
    "        # verify if the difference is minimum\n",
    "        if (((question['Left'] - next_question['Left'])*100)/question['Left']) < 25 or (((next_question['Left'])*100)/next_question['Left'] - question['Left']) < 25:\n",
    "            questions.sort(key = lambda question: (question.get('Top')))\n",
    "        else:\n",
    "            questions.sort(key = lambda question: (question.get('Left'), question.get('Top')))"
   ]
  },
  {
   "cell_type": "code",
   "execution_count": 11,
   "metadata": {},
   "outputs": [],
   "source": [
    "def detect_page_style(width, questions_locations):\n",
    "    middle_horizontal = width/2\n",
    "    page_style = '' # centered, columns, broken_columns\n",
    "    for question in questions_locations:\n",
    "        if width * question['Left'] > middle_horizontal:\n",
    "            # page has 2 columns\n",
    "            if height * question['Top'] > (height * questions_locations[0]['Top'] * 0.10):\n",
    "                # question is broken\n",
    "                page_style = 'broken_columns'\n",
    "            else:\n",
    "                # question is not broken\n",
    "                page_style = 'columns'\n",
    "        else:\n",
    "            page_style = 'centered'\n",
    "    return page_style\n",
    "\n",
    "def create_question_bbox(page_style, box, width, height, previous_question, next_question):\n",
    "    middle_horizontal = width/2\n",
    "    broken = False\n",
    "    if page_style == 'centered':\n",
    "        if box['Top'] <= previous_question['Top']:\n",
    "            x0 = 0\n",
    "            y0 = height*box['Top']\n",
    "            x1 = width\n",
    "            y1 = height*next_question['Top']\n",
    "        else:\n",
    "            # question is on the bottom of page\n",
    "            x0 = 0\n",
    "            y0 = height*box['Top']\n",
    "            x1 = width\n",
    "            y1 = height\n",
    "    else:\n",
    "        if width * box['Left'] < middle_horizontal:\n",
    "            # question is on the left\n",
    "            if box['Top'] <= previous_question['Top']:\n",
    "                # question is on the top left\n",
    "                if width * next_question['Left'] > middle_horizontal:\n",
    "                    # next question is on the right\n",
    "                    x0 = 0\n",
    "                    y0 = height*box['Top']\n",
    "                    x1 = width/2\n",
    "                    y1 = height\n",
    "                else:\n",
    "                    x0 = 0\n",
    "                    y0 = height*box['Top']\n",
    "                    x1 = width/2\n",
    "                    y1 = height*next_question['Top']\n",
    "            else:\n",
    "               # question is on the bottom left\n",
    "                x0 = 0\n",
    "                y0 = height*box['Top']\n",
    "                x1 = width/2\n",
    "                y1 = height\n",
    "        else:\n",
    "            # question is on the right\n",
    "            if box['Top'] < next_question['Top']:\n",
    "                # question is on the top right\n",
    "                x0 = width/2\n",
    "                y0 = height*box['Top']\n",
    "                x1 = width\n",
    "                y1 = height*next_question['Top']\n",
    "            else:\n",
    "                # question is on the bottom right\n",
    "                x0 = width/2\n",
    "                y0 = height*box['Top']\n",
    "                x1 = width\n",
    "                y1 = height\n",
    "    return [x0, y0, x1, y1]\n",
    "\n",
    "def create_broken_piece_bbox(width, height, next_question):\n",
    "    x0 = width/2\n",
    "    y0 = 0\n",
    "    x1 = width\n",
    "    y1 = height*next_question['Top']\n",
    "    return [x0, y0, x1, y1]\n",
    "\n",
    "def show_bbox(draw, box, color):\n",
    "    return draw.rectangle(box, outline=color, width=4)\n",
    "    \n",
    "def cut_question(image, question_bbox):\n",
    "    crop = image.crop(question_bbox)\n",
    "    return crop"
   ]
  },
  {
   "cell_type": "markdown",
   "metadata": {},
   "source": [
    "## Transforming exam PDF file to JPEG images"
   ]
  },
  {
   "cell_type": "code",
   "execution_count": 12,
   "metadata": {},
   "outputs": [
    {
     "ename": "NameError",
     "evalue": "name 'convert_from_path' is not defined",
     "output_type": "error",
     "traceback": [
      "\u001b[0;31m---------------------------------------------------------------------------\u001b[0m",
      "\u001b[0;31mNameError\u001b[0m                                 Traceback (most recent call last)",
      "Cell \u001b[0;32mIn[12], line 1\u001b[0m\n\u001b[0;32m----> 1\u001b[0m convert_pdf2jpeg(sample_file, exam_name, exams_dir)\n",
      "Cell \u001b[0;32mIn[10], line 2\u001b[0m, in \u001b[0;36mconvert_pdf2jpeg\u001b[0;34m(pdf_file, exam_name, output_dir)\u001b[0m\n\u001b[1;32m      1\u001b[0m \u001b[38;5;28;01mdef\u001b[39;00m \u001b[38;5;21mconvert_pdf2jpeg\u001b[39m(pdf_file, exam_name, output_dir):\n\u001b[0;32m----> 2\u001b[0m     pages \u001b[38;5;241m=\u001b[39m convert_from_path(pdf_file)\n\u001b[1;32m      3\u001b[0m     page_count \u001b[38;5;241m=\u001b[39m \u001b[38;5;241m0\u001b[39m\n\u001b[1;32m      4\u001b[0m     \u001b[38;5;28;01mfor\u001b[39;00m page \u001b[38;5;129;01min\u001b[39;00m pages:\n",
      "\u001b[0;31mNameError\u001b[0m: name 'convert_from_path' is not defined"
     ]
    }
   ],
   "source": [
    "convert_pdf2jpeg(sample_file, exam_name, exams_dir)"
   ]
  },
  {
   "cell_type": "markdown",
   "metadata": {},
   "source": [
    "## Defining Cuts"
   ]
  },
  {
   "cell_type": "code",
   "execution_count": null,
   "metadata": {},
   "outputs": [],
   "source": [
    "page = 1\n",
    "test_image = f'{exams_dir}/{exam_name}_{page}pg.jpg'\n",
    "disp.Image(test_image, width=400)"
   ]
  },
  {
   "cell_type": "code",
   "execution_count": null,
   "metadata": {},
   "outputs": [],
   "source": [
    "image = Image.open(test_image)\n",
    "width, height =image.size\n",
    "draw = ImageDraw.Draw(image)\n",
    "width, height"
   ]
  },
  {
   "cell_type": "code",
   "execution_count": null,
   "metadata": {},
   "outputs": [],
   "source": [
    "textract = boto3.client('textract')\n",
    "\n",
    "response = textract.detect_document_text(\n",
    "    Document={\n",
    "        'Bytes': load_image(test_image),\n",
    "    }\n",
    ")"
   ]
  },
  {
   "cell_type": "code",
   "execution_count": null,
   "metadata": {},
   "outputs": [],
   "source": [
    "words = save_words(response)\n",
    "len(words)"
   ]
  },
  {
   "cell_type": "code",
   "execution_count": null,
   "metadata": {},
   "outputs": [],
   "source": [
    "questions = identify_questions(words)\n",
    "len(questions)"
   ]
  },
  {
   "cell_type": "code",
   "execution_count": null,
   "metadata": {},
   "outputs": [],
   "source": [
    "questions_locations = localize_questions(questions)\n",
    "order_questions(questions_locations)\n",
    "pprint(questions_locations)"
   ]
  },
  {
   "cell_type": "code",
   "execution_count": null,
   "metadata": {},
   "outputs": [],
   "source": [
    "page_style = detect_page_style(width, questions_locations)\n",
    "print(page_style)"
   ]
  },
  {
   "cell_type": "code",
   "execution_count": null,
   "metadata": {},
   "outputs": [],
   "source": [
    "question_bbox = create_question_bbox(page_style, questions_locations[0], width, height, questions_locations[0], questions_locations[1])\n",
    "show_bbox(draw, question_bbox, 'green')"
   ]
  },
  {
   "cell_type": "code",
   "execution_count": null,
   "metadata": {},
   "outputs": [],
   "source": [
    "question_bbox = create_question_bbox(page_style, questions_locations[1], width, height, questions_locations[0], questions_locations[2])\n",
    "show_bbox(draw, question_bbox, 'red')\n",
    "if page_style == 'broken_columns':\n",
    "    broken_question_bbox = create_broken_piece_bbox(width, height, questions_locations[2])\n",
    "    show_bbox(draw, broken_question_bbox, 'red')"
   ]
  },
  {
   "cell_type": "code",
   "execution_count": null,
   "metadata": {},
   "outputs": [],
   "source": [
    "question_bbox = create_question_bbox(page_style, questions_locations[2], width, height, questions_locations[1], questions_locations[2])\n",
    "show_bbox(draw, question_bbox, 'yellow')"
   ]
  },
  {
   "cell_type": "code",
   "execution_count": null,
   "metadata": {},
   "outputs": [],
   "source": [
    "image.save('questions_test.jpg', 'JPEG')"
   ]
  },
  {
   "cell_type": "code",
   "execution_count": 2,
   "metadata": {},
   "outputs": [
    {
     "ename": "NameError",
     "evalue": "name 'cut_question' is not defined",
     "output_type": "error",
     "traceback": [
      "\u001b[0;31m---------------------------------------------------------------------------\u001b[0m",
      "\u001b[0;31mNameError\u001b[0m                                 Traceback (most recent call last)",
      "Cell \u001b[0;32mIn[2], line 1\u001b[0m\n\u001b[0;32m----> 1\u001b[0m cut \u001b[38;5;241m=\u001b[39m cut_question(image, create_question_bbox(page_style, questions_locations[\u001b[38;5;241m0\u001b[39m], width, height, questions_locations[\u001b[38;5;241m0\u001b[39m], questions_locations[\u001b[38;5;241m1\u001b[39m]))\n\u001b[1;32m      2\u001b[0m cut\u001b[38;5;241m.\u001b[39msave(\u001b[38;5;124m'\u001b[39m\u001b[38;5;124mquestion_test.jpg\u001b[39m\u001b[38;5;124m'\u001b[39m, \u001b[38;5;124m'\u001b[39m\u001b[38;5;124mJPEG\u001b[39m\u001b[38;5;124m'\u001b[39m)\n",
      "\u001b[0;31mNameError\u001b[0m: name 'cut_question' is not defined"
     ]
    }
   ],
   "source": [
    "cut = cut_question(image, create_question_bbox(page_style, questions_locations[0], width, height, questions_locations[0], questions_locations[1]))\n",
    "cut.save('question_test.jpg', 'JPEG')"
   ]
  }
 ],
 "metadata": {
  "kernelspec": {
   "display_name": "Python 3 (ipykernel)",
   "language": "python",
   "name": "python3"
  },
  "language_info": {
   "codemirror_mode": {
    "name": "ipython",
    "version": 3
   },
   "file_extension": ".py",
   "mimetype": "text/x-python",
   "name": "python",
   "nbconvert_exporter": "python",
   "pygments_lexer": "ipython3",
   "version": "3.11.5"
  }
 },
 "nbformat": 4,
 "nbformat_minor": 4
}
